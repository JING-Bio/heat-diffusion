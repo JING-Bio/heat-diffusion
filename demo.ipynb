{
 "cells": [
  {
   "cell_type": "markdown",
   "metadata": {},
   "source": [
    "Load libraries.  In this case we need the ndex library, which you can get with \"pip install ndex\""
   ]
  },
  {
   "cell_type": "code",
   "execution_count": 1,
   "metadata": {
    "collapsed": true
   },
   "outputs": [],
   "source": [
    "#ndex = __import__(\"ndex\")\n",
    "import ndex2.client as nc2\n",
    "import ndex2"
   ]
  },
  {
   "cell_type": "code",
   "execution_count": 2,
   "metadata": {
    "collapsed": true
   },
   "outputs": [],
   "source": [
    "import requests\n",
    "import json\n",
    "import base64"
   ]
  },
  {
   "cell_type": "markdown",
   "metadata": {},
   "source": [
    "# Connect to NDEx in order to retrieve a network."
   ]
  },
  {
   "cell_type": "code",
   "execution_count": 3,
   "metadata": {},
   "outputs": [],
   "source": [
    "anon_ndex = nc2.Ndex2(\"http://public.ndexbio.org\")"
   ]
  },
  {
   "cell_type": "markdown",
   "metadata": {},
   "source": [
    "Here we grab the \"NCI Pathway Interaction Database - Final Revision - Extended Binary SIF\" from NDEx, using its UUID.  The NdexGraph object is an extension of the networkx objects, see https://networkx.github.io/ for all the things you can do with it"
   ]
  },
  {
   "cell_type": "code",
   "execution_count": 4,
   "metadata": {
    "collapsed": true
   },
   "outputs": [],
   "source": [
    "G = ndex2.create_nice_cx_from_server(server='http://public.ndexbio.org', uuid='c0e70804-d848-11e6-86b1-0ac135e8bacf')"
   ]
  },
  {
   "cell_type": "code",
   "execution_count": 5,
   "metadata": {
    "scrolled": true
   },
   "outputs": [
    {
     "name": "stdout",
     "output_type": "stream",
     "text": [
      "1.0\n"
     ]
    }
   ],
   "source": [
    "nodeid = list(G.nodes.keys())[0]\n",
    "G.remove_node_attribute(node=nodeid, attribute_name='diffusion_input')\n",
    "G.set_node_attribute(type='double', node=nodeid, attribute_name='diffusion_input', values='1.0')\n",
    "print(G.get_node_attribute_value(node=nodeid, attribute_name='diffusion_input'))"
   ]
  },
  {
   "cell_type": "markdown",
   "metadata": {},
   "source": [
    "Call the Diffusion service"
   ]
  },
  {
   "cell_type": "markdown",
   "metadata": {},
   "source": [
    "#### NOTE: Diffusion uses the CXmate service, which requires all attributes to be passed as strings. So we convert the network to CX and stringify attributes"
   ]
  },
  {
   "cell_type": "code",
   "execution_count": 21,
   "metadata": {},
   "outputs": [],
   "source": [
    "url = 'http://v3.heat-diffusion.cytoscape.io'\n",
    "payload = G.to_cx()\n",
    "for p in payload:\n",
    "    k = list(p.keys())[0]\n",
    "    if 'Attributes' in k:\n",
    "        for i in range(len(p[k])):\n",
    "            p[k][i]['v'] = str(p[k][i]['v'])\n",
    "response = requests.post(url, json=payload)"
   ]
  },
  {
   "cell_type": "markdown",
   "metadata": {},
   "source": [
    "#The 'data' dictionary in the json response is a dictionary with node IDs as keys and, 'rank' and 'heat' as the values. "
   ]
  },
  {
   "cell_type": "markdown",
   "metadata": {},
   "source": [
    "See the top 10 most relevant nodes to your query. "
   ]
  },
  {
   "cell_type": "code",
   "execution_count": 20,
   "metadata": {},
   "outputs": [
    {
     "name": "stdout",
     "output_type": "stream",
     "text": [
      "networkx version 1.11\n",
      "id: 3431 name: CMTM2 rank: 0 heat: 0.905968155561\n",
      "id: 2878 name: BRAF rank: 1 heat: 0.0631120532008\n",
      "id: 2600 name: PAK4 rank: 2 heat: 0.0304622579003\n",
      "id: 2147 name: PPP2R2B rank: 3 heat: 0.0303269187099\n",
      "id: 2397 name: KSR1 rank: 4 heat: 0.0250882472905\n",
      "id: 1337 name: RIT1 rank: 5 heat: 0.0221534372756\n",
      "id: 1340 name: RIT2 rank: 6 heat: 0.0221534372756\n",
      "id: 1857 name: PPP2R1A rank: 7 heat: 0.0203617273203\n",
      "id: 1251 name: RANBP10 rank: 8 heat: 0.0198381840218\n",
      "id: 1431 name: MUC20 rank: 9 heat: 0.0188216924195\n"
     ]
    }
   ],
   "source": [
    "R_nice = ndex2.create_nice_cx_from_raw_cx(response.json()['data'])\n",
    "R = R_nice.to_networkx()\n",
    "\n",
    "nos = []\n",
    "for n in R.nodes_iter():\n",
    "    if int(R.node[n]['diffusion_output_rank']) < 10:\n",
    "        R.node[n]['nid'] = n\n",
    "        nos.append(R.node[n])\n",
    "nos = sorted(nos, key=lambda k: k['diffusion_output_rank'])\n",
    "for no in nos:\n",
    "    print(\"id: \" + str(no['nid']) + \" name: \" + no['name'] + \\\n",
    "          \" rank: \" + str(no['diffusion_output_rank']) + \\\n",
    "          \" heat: \" + str(no['diffusion_output_heat']))\n"
   ]
  },
  {
   "cell_type": "code",
   "execution_count": null,
   "metadata": {
    "collapsed": true
   },
   "outputs": [],
   "source": []
  }
 ],
 "metadata": {
  "kernelspec": {
   "display_name": "Python 3",
   "language": "python",
   "name": "python3"
  },
  "language_info": {
   "codemirror_mode": {
    "name": "ipython",
    "version": 3
   },
   "file_extension": ".py",
   "mimetype": "text/x-python",
   "name": "python",
   "nbconvert_exporter": "python",
   "pygments_lexer": "ipython3",
   "version": "3.6.1"
  }
 },
 "nbformat": 4,
 "nbformat_minor": 1
}
