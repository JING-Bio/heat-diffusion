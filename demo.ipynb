{
 "cells": [
  {
   "cell_type": "markdown",
   "metadata": {},
   "source": [
    "Load libraries.  In this case we need the ndex library, which you can get with \"pip install ndex\""
   ]
  },
  {
   "cell_type": "code",
   "execution_count": 7,
   "metadata": {},
   "outputs": [],
   "source": [
    "ndex = __import__(\"ndex\")"
   ]
  },
  {
   "cell_type": "code",
   "execution_count": 8,
   "metadata": {},
   "outputs": [],
   "source": [
    "import requests\n",
    "import json\n",
    "import base64"
   ]
  },
  {
   "cell_type": "markdown",
   "metadata": {},
   "source": [
    "# Connect to NDEx in order to retrieve a network."
   ]
  },
  {
   "cell_type": "code",
   "execution_count": 9,
   "metadata": {},
   "outputs": [
    {
     "ename": "AttributeError",
     "evalue": "'module' object has no attribute 'client'",
     "output_type": "error",
     "traceback": [
      "\u001b[0;31m---------------------------------------------------------------------------\u001b[0m",
      "\u001b[0;31mAttributeError\u001b[0m                            Traceback (most recent call last)",
      "\u001b[0;32m<ipython-input-9-136a6d6d51e4>\u001b[0m in \u001b[0;36m<module>\u001b[0;34m()\u001b[0m\n\u001b[0;32m----> 1\u001b[0;31m \u001b[0manon_ndex\u001b[0m \u001b[0;34m=\u001b[0m \u001b[0mndex\u001b[0m\u001b[0;34m.\u001b[0m\u001b[0mclient\u001b[0m\u001b[0;34m.\u001b[0m\u001b[0mNdex\u001b[0m\u001b[0;34m(\u001b[0m\u001b[0;34m\"http://public.ndexbio.org\"\u001b[0m\u001b[0;34m)\u001b[0m\u001b[0;34m\u001b[0m\u001b[0m\n\u001b[0m",
      "\u001b[0;31mAttributeError\u001b[0m: 'module' object has no attribute 'client'"
     ]
    }
   ],
   "source": [
    "anon_ndex = ndex.client.Ndex(\"http://public.ndexbio.org\")"
   ]
  },
  {
   "cell_type": "markdown",
   "metadata": {},
   "source": [
    "Here we grab the \"NCI Pathway Interaction Database - Final Revision - Extended Binary SIF\" from NDEx, using its UUID.  The NdexGraph object is an extension of the networkx objects, see https://networkx.github.io/ for all the things you can do with it"
   ]
  },
  {
   "cell_type": "code",
   "execution_count": 30,
   "metadata": {},
   "outputs": [],
   "source": [
    "G = ndex.networkn.NdexGraph(server='http://public.ndexbio.org', uuid='c0e70804-d848-11e6-86b1-0ac135e8bacf')"
   ]
  },
  {
   "cell_type": "code",
   "execution_count": 31,
   "metadata": {
    "scrolled": true
   },
   "outputs": [
    {
     "name": "stdout",
     "output_type": "stream",
     "text": [
      "{u'diffusion_output_rank': 1645, 'name': u'ITSN2', u'selected': True, u'diffusion_output_heat': 0.0006416480485015229, u'aliases': ['uniprot knowledgebase:O95062', 'uniprot knowledgebase:Q15812', 'uniprot knowledgebase:Q9HAK4', 'uniprot knowledgebase:Q9NXE6', 'uniprot knowledgebase:Q9NYG0', 'uniprot knowledgebase:Q9NZM2', 'uniprot knowledgebase:Q9NZM3', 'uniprot knowledgebase:Q9ULG4'], u'type': u'Protein', u'diffusion_input': 1.0}\n"
     ]
    }
   ],
   "source": [
    "nodeid = G.nodes()[0]\n",
    "G.node[nodeid]['diffusion_input'] = 1.0\n",
    "print G.node[nodeid]"
   ]
  },
  {
   "cell_type": "markdown",
   "metadata": {},
   "source": [
    "Call the Diffusion service"
   ]
  },
  {
   "cell_type": "code",
   "execution_count": 32,
   "metadata": {},
   "outputs": [
    {
     "name": "stdout",
     "output_type": "stream",
     "text": [
      "consistency group max: 2\n"
     ]
    }
   ],
   "source": [
    "url = 'http://v3.heat-diffusion.cytoscape.io'\n",
    "payload = G.to_cx()\n",
    "headers = {'content-type': 'application/json'}\n",
    "response = requests.post(url, data=json.dumps(payload), headers=headers)"
   ]
  },
  {
   "cell_type": "markdown",
   "metadata": {},
   "source": [
    "#The 'data' dictionary in the json response is a dictionary with node IDs as keys and, 'rank' and 'heat' as the values. "
   ]
  },
  {
   "cell_type": "markdown",
   "metadata": {},
   "source": [
    "See the top 10 most relevant nodes to your query. "
   ]
  },
  {
   "cell_type": "code",
   "execution_count": 33,
   "metadata": {},
   "outputs": [
    {
     "name": "stdout",
     "output_type": "stream",
     "text": [
      "{u'd': u'float', u's': u'0', u'v': u'0.906123911644', u'po': u'806', u'n': u'diffusion_output_heat'}\n",
      "{u'd': u'float', u's': u'0', u'v': u'0.0198635537603', u'po': u'1251', u'n': u'diffusion_output_heat'}\n",
      "{u'd': u'float', u's': u'0', u'v': u'0.0222036772476', u'po': u'1337', u'n': u'diffusion_output_heat'}\n",
      "{u'd': u'float', u's': u'0', u'v': u'0.0222036772476', u'po': u'1340', u'n': u'diffusion_output_heat'}\n",
      "{u'd': u'float', u's': u'0', u'v': u'0.0188499154842', u'po': u'1431', u'n': u'diffusion_output_heat'}\n",
      "{u'd': u'float', u's': u'0', u'v': u'0.0203788459581', u'po': u'1857', u'n': u'diffusion_output_heat'}\n",
      "{u'd': u'float', u's': u'0', u'v': u'0.0303421980801', u'po': u'2147', u'n': u'diffusion_output_heat'}\n",
      "{u'd': u'float', u's': u'0', u'v': u'0.0251069488922', u'po': u'2397', u'n': u'diffusion_output_heat'}\n",
      "{u'd': u'float', u's': u'0', u'v': u'0.030950992507', u'po': u'2600', u'n': u'diffusion_output_heat'}\n",
      "{u'd': u'float', u's': u'0', u'v': u'0.06318075277', u'po': u'2878', u'n': u'diffusion_output_heat'}\n"
     ]
    }
   ],
   "source": [
    "relevant_ids=[]\n",
    "\n",
    "hottest_nodes = []\n",
    "for j in response.json()['data']:\n",
    "    if 'nodeAttributes' in j:\n",
    "        nodelist = j['nodeAttributes']\n",
    "        for node in nodelist:\n",
    "            if node['n'] == 'diffusion_output_rank':\n",
    "                if int(node['v'])<10:\n",
    "                    hottest_nodes.append(node['po'])\n",
    "for k in response.json()['data']:\n",
    "    if 'nodeAttributes' in k:\n",
    "        nodelist = k['nodeAttributes']\n",
    "        for node in nodelist:\n",
    "            if node['n'] == 'diffusion_output_heat' and node['po'] in hottest_nodes:\n",
    "                print node"
   ]
  },
  {
   "cell_type": "code",
   "execution_count": null,
   "metadata": {},
   "outputs": [],
   "source": []
  }
 ],
 "metadata": {
  "kernelspec": {
   "display_name": "Python 2",
   "language": "python",
   "name": "python2"
  },
  "language_info": {
   "codemirror_mode": {
    "name": "ipython",
    "version": 2
   },
   "file_extension": ".py",
   "mimetype": "text/x-python",
   "name": "python",
   "nbconvert_exporter": "python",
   "pygments_lexer": "ipython2",
   "version": "2.7.13"
  }
 },
 "nbformat": 4,
 "nbformat_minor": 1
}
