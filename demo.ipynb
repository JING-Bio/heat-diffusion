{
 "cells": [
  {
   "cell_type": "markdown",
   "metadata": {},
   "source": [
    "Load libraries.  In this case we need the ndex library, which you can get with \"pip install ndex\""
   ]
  },
  {
   "cell_type": "code",
   "execution_count": 2,
   "metadata": {},
   "outputs": [],
   "source": [
    "ndex = __import__(\"ndex\")"
   ]
  },
  {
   "cell_type": "code",
   "execution_count": 3,
   "metadata": {},
   "outputs": [],
   "source": [
    "import requests\n",
    "import json\n",
    "import base64"
   ]
  },
  {
   "cell_type": "markdown",
   "metadata": {},
   "source": [
    "# Connect to NDEx in order to retrieve a network."
   ]
  },
  {
   "cell_type": "code",
   "execution_count": 4,
   "metadata": {},
   "outputs": [],
   "source": [
    "anon_ndex = ndex.client.Ndex(\"http://public.ndexbio.org\")"
   ]
  },
  {
   "cell_type": "markdown",
   "metadata": {},
   "source": [
    "Here we grab the \"NCI Pathway Interaction Database - Final Revision - Extended Binary SIF\" from NDEx, using its UUID.  The NdexGraph object is an extension of the networkx objects, see https://networkx.github.io/ for all the things you can do with it"
   ]
  },
  {
   "cell_type": "code",
   "execution_count": 5,
   "metadata": {},
   "outputs": [],
   "source": [
    "G = ndex.networkn.NdexGraph(server='http://public.ndexbio.org', uuid='c0e70804-d848-11e6-86b1-0ac135e8bacf')"
   ]
  },
  {
   "cell_type": "code",
   "execution_count": 6,
   "metadata": {
    "scrolled": true
   },
   "outputs": [
    {
     "name": "stdout",
     "output_type": "stream",
     "text": [
      "{u'diffusion_output_rank': 1645, 'name': u'ITSN2', u'selected': True, u'diffusion_output_heat': 0.0006416480485015229, u'aliases': ['uniprot knowledgebase:O95062', 'uniprot knowledgebase:Q15812', 'uniprot knowledgebase:Q9HAK4', 'uniprot knowledgebase:Q9NXE6', 'uniprot knowledgebase:Q9NYG0', 'uniprot knowledgebase:Q9NZM2', 'uniprot knowledgebase:Q9NZM3', 'uniprot knowledgebase:Q9ULG4'], u'type': u'Protein', u'diffusion_input': 1.0}\n"
     ]
    }
   ],
   "source": [
    "nodeid = G.nodes()[0]\n",
    "G.node[nodeid]['diffusion_input'] = 1.0\n",
    "print G.node[nodeid]"
   ]
  },
  {
   "cell_type": "markdown",
   "metadata": {},
   "source": [
    "Call the Diffusion service"
   ]
  },
  {
   "cell_type": "code",
   "execution_count": 7,
   "metadata": {},
   "outputs": [
    {
     "name": "stdout",
     "output_type": "stream",
     "text": [
      "consistency group max: 2\n"
     ]
    }
   ],
   "source": [
    "url = 'http://v3.heat-diffusion.cytoscape.io'\n",
    "payload = G.to_cx()\n",
    "headers = {'content-type': 'application/json'}\n",
    "response = requests.post(url, data=json.dumps(payload), headers=headers)"
   ]
  },
  {
   "cell_type": "markdown",
   "metadata": {},
   "source": [
    "#The 'data' dictionary in the json response is a dictionary with node IDs as keys and, 'rank' and 'heat' as the values. "
   ]
  },
  {
   "cell_type": "markdown",
   "metadata": {},
   "source": [
    "See the top 10 most relevant nodes to your query. "
   ]
  },
  {
   "cell_type": "code",
   "execution_count": 12,
   "metadata": {},
   "outputs": [
    {
     "name": "stdout",
     "output_type": "stream",
     "text": [
      "{u'diffusion_output_rank': 0, 'name': u'ITSN2', u'selected': True, u'diffusion_output_heat': 0.906123911644, u'aliases': \"['uniprot knowledgebase:O95062', 'uniprot knowledgebase:Q15812', 'uniprot knowledgebase:Q9HAK4', 'uniprot knowledgebase:Q9NXE6', 'uniprot knowledgebase:Q9NYG0', 'uniprot knowledgebase:Q9NZM2', 'uniprot knowledgebase:Q9NZM3', 'uniprot knowledgebase:Q9ULG4']\", u'type': 'Protein', u'diffusion_input': 1.0}\n",
      "{u'diffusion_output_rank': 1, 'name': u'BRAF', u'selected': True, u'diffusion_output_heat': 0.06318075277, u'aliases': \"['uniprot knowledgebase:A4D1T4', 'uniprot knowledgebase:B6HY61', 'uniprot knowledgebase:B6HY62', 'uniprot knowledgebase:B6HY63', 'uniprot knowledgebase:B6HY64', 'uniprot knowledgebase:B6HY65', 'uniprot knowledgebase:B6HY66', 'uniprot knowledgebase:P15056', 'uniprot knowledgebase:Q13878', 'uniprot knowledgebase:Q3MIN6', 'uniprot knowledgebase:Q9UDP8', 'uniprot knowledgebase:Q9Y6T3']\", u'type': 'Protein', u'diffusion_input': 1.0}\n",
      "{u'diffusion_output_rank': 2, 'name': u'PAK4', u'selected': True, u'diffusion_output_heat': 0.030950992507, u'aliases': \"['uniprot knowledgebase:B4DGG6', 'uniprot knowledgebase:O96013', 'uniprot knowledgebase:Q8N4E1', 'uniprot knowledgebase:Q8NCH5', 'uniprot knowledgebase:Q8NDE3', 'uniprot knowledgebase:Q9BU33', 'uniprot knowledgebase:Q9ULS8']\", u'type': 'Protein', u'diffusion_input': 0.0}\n",
      "{u'diffusion_output_rank': 3, 'name': u'PPP2R2B', u'selected': True, u'diffusion_output_heat': 0.0303421980801, u'aliases': \"['uniprot knowledgebase:A6NEJ2', 'uniprot knowledgebase:A8K102', 'uniprot knowledgebase:B3KPD0', 'uniprot knowledgebase:B7Z2F2', 'uniprot knowledgebase:B7Z304', 'uniprot knowledgebase:D3DQF7', 'uniprot knowledgebase:D3DQF8', 'uniprot knowledgebase:G3V149', 'uniprot knowledgebase:Q00005']\", u'type': 'Protein', u'diffusion_input': 0.0}\n",
      "{u'diffusion_output_rank': 4, 'name': u'KSR1', u'selected': True, u'diffusion_output_heat': 0.0251069488922, u'aliases': \"['uniprot knowledgebase:F8WEA9', 'uniprot knowledgebase:H7BYU0', 'uniprot knowledgebase:Q13476', 'uniprot knowledgebase:Q8IVT5']\", u'type': 'Protein', u'diffusion_input': 0.0}\n",
      "{u'diffusion_output_rank': 5, 'name': u'RIT1', u'selected': True, u'diffusion_output_heat': 0.0222036772476, u'aliases': \"['uniprot knowledgebase:B4DQE8', 'uniprot knowledgebase:O00646', 'uniprot knowledgebase:O00720', 'uniprot knowledgebase:Q5VY89', 'uniprot knowledgebase:Q5VY90', 'uniprot knowledgebase:Q92963']\", u'type': 'Protein', u'diffusion_input': 0.0}\n",
      "{u'diffusion_output_rank': 6, 'name': u'RIT2', u'selected': True, u'diffusion_output_heat': 0.0222036772476, u'aliases': \"['uniprot knowledgebase:B2R9L1', 'uniprot knowledgebase:O15295', 'uniprot knowledgebase:Q8TD69', 'uniprot knowledgebase:Q8WVF6', 'uniprot knowledgebase:Q92964', 'uniprot knowledgebase:Q99578']\", u'type': 'Protein', u'diffusion_input': 0.0}\n",
      "{u'diffusion_output_rank': 7, 'name': u'PPP2R1A', u'selected': True, u'diffusion_output_heat': 0.0203788459581, u'aliases': \"['uniprot knowledgebase:P30153', 'uniprot knowledgebase:Q13773', 'uniprot knowledgebase:Q6ICQ3', 'uniprot knowledgebase:Q96DH3']\", u'type': 'Protein', u'diffusion_input': 0.0}\n",
      "{u'diffusion_output_rank': 8, 'name': u'RANBP10', u'selected': True, u'diffusion_output_heat': 0.0198635537603, u'aliases': \"['uniprot knowledgebase:A4FTY2', 'uniprot knowledgebase:B4DID0', 'uniprot knowledgebase:B4DQH9', 'uniprot knowledgebase:E7EW27', 'uniprot knowledgebase:Q6VN20', 'uniprot knowledgebase:Q9P264']\", u'type': 'Protein', u'diffusion_input': 0.0}\n",
      "{u'diffusion_output_rank': 9, 'name': u'MUC20', u'selected': True, u'diffusion_output_heat': 0.0188499154842, u'aliases': \"['uniprot knowledgebase:Q6UX97', 'uniprot knowledgebase:Q76I83', 'uniprot knowledgebase:Q76I85', 'uniprot knowledgebase:Q86ST8', 'uniprot knowledgebase:Q8N307', 'uniprot knowledgebase:Q8NBY6', 'uniprot knowledgebase:Q96KA1', 'uniprot knowledgebase:Q9P2I8']\", u'type': 'Protein', u'diffusion_input': 0.0}\n"
     ]
    }
   ],
   "source": [
    "nos = []\n",
    "R = ndex.networkn.NdexGraph(cx=response.json()['data'])\n",
    "for n in R.nodes_iter():\n",
    "    if R.node[n]['diffusion_output_rank'] < 10:\n",
    "        R.node['nid'] = n\n",
    "        nos.append(R.node[n])\n",
    "nos = sorted(nos, key=lambda k: k['diffusion_output_rank'])\n",
    "for no in nos:\n",
    "    print no\n",
    "    print \"id: \" + str(no) + \" name: \" + no['name'] + \" rank: \" + str(no['diffusion_output_rank']) + \" heat: \" + str(no['diffusion_output_heat'])\n"
   ]
  },
  {
   "cell_type": "code",
   "execution_count": null,
   "metadata": {},
   "outputs": [],
   "source": []
  }
 ],
 "metadata": {
  "kernelspec": {
   "display_name": "Python 2",
   "language": "python",
   "name": "python2"
  },
  "language_info": {
   "codemirror_mode": {
    "name": "ipython",
    "version": 2
   },
   "file_extension": ".py",
   "mimetype": "text/x-python",
   "name": "python",
   "nbconvert_exporter": "python",
   "pygments_lexer": "ipython2",
   "version": "2.7.13"
  }
 },
 "nbformat": 4,
 "nbformat_minor": 1
}
